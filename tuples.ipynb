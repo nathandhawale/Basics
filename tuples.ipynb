{
 "cells": [
  {
   "cell_type": "code",
   "execution_count": 4,
   "metadata": {},
   "outputs": [
    {
     "name": "stdout",
     "output_type": "stream",
     "text": [
      "('a', 'b', 'c')\n"
     ]
    }
   ],
   "source": [
    "t = (\"a\", \"b\", \"c\")\n",
    "print(t)"
   ]
  },
  {
   "cell_type": "code",
   "execution_count": 5,
   "metadata": {},
   "outputs": [
    {
     "name": "stdout",
     "output_type": "stream",
     "text": [
      "Nathan 23 python 2022\n",
      "('Nathan', 23, 'python', 2022)\n"
     ]
    }
   ],
   "source": [
    "name = \"Nathan\"\n",
    "age = 23\n",
    "\n",
    "print(name, age, \"python\", 2022)\n",
    "print((name, age, \"python\", 2022))"
   ]
  },
  {
   "cell_type": "code",
   "execution_count": 6,
   "metadata": {},
   "outputs": [
    {
     "name": "stdout",
     "output_type": "stream",
     "text": [
      "5\n",
      "Album: Welcome to my Nightmare, Artist: Alice Cooper, Year: 1975\n",
      "Album: Bad Company, Artist: Bad Company, Year: 1974\n",
      "Album: Nightflight, Artist: Budgie, Year: 1981\n",
      "Album: More Mayhem, Artist: Emilda May, Year: 2011\n",
      "Album: Ride the Lightning, Artist: Metallica, Year: 1984\n",
      "\n",
      "Album: Welcome to my Nightmare, Artist: Alice Cooper, Year: 1975 \n",
      "Album: Bad Company, Artist: Bad Company, Year: 1974 \n",
      "Album: Nightflight, Artist: Budgie, Year: 1981 \n",
      "Album: More Mayhem, Artist: Emilda May, Year: 2011 \n",
      "Album: Ride the Lightning, Artist: Metallica, Year: 1984 \n",
      "\n",
      "Album: Welcome to my Nightmare, Artist Alice Cooper, Year 1975\n",
      "Album: Bad Company, Artist Bad Company, Year 1974\n",
      "Album: Nightflight, Artist Budgie, Year 1981\n",
      "Album: More Mayhem, Artist Emilda May, Year 2011\n",
      "Album: Ride the Lightning, Artist Metallica, Year 1984\n"
     ]
    }
   ],
   "source": [
    "albums = [\n",
    "    (\"Welcome to my Nightmare\", \"Alice Cooper\", 1975),\n",
    "    (\"Bad Company\", \"Bad Company\", 1974),\n",
    "    (\"Nightflight\", \"Budgie\", 1981),\n",
    "    (\"More Mayhem\", \"Emilda May\", 2011),\n",
    "    (\"Ride the Lightning\", \"Metallica\", 1984),\n",
    "]\n",
    "\n",
    "print(len(albums))\n",
    "\n",
    "for album in albums:\n",
    "    name = album[0]\n",
    "    artist = album[1]\n",
    "    year = album[2]\n",
    "    print(\"Album: {}, Artist: {}, Year: {}\".format(name, artist, year))\n",
    "    \n",
    "print()\n",
    "\n",
    "for name, artist, year in albums:\n",
    "    print(\"Album: {}, Artist: {}, Year: {} \".format(name, artist, year))\n",
    "\n",
    "print()\n",
    "\n",
    "for album in albums:\n",
    "    name, artist, year = album\n",
    "    print(\"Album: {}, Artist {}, Year {}\".format(name, artist, year))"
   ]
  },
  {
   "cell_type": "code",
   "execution_count": 7,
   "metadata": {},
   "outputs": [
    {
     "name": "stdout",
     "output_type": "stream",
     "text": [
      "42\n"
     ]
    }
   ],
   "source": [
    "a = b = c = d = e = f = 42\n",
    "print(c)\n"
   ]
  },
  {
   "cell_type": "code",
   "execution_count": 8,
   "metadata": {},
   "outputs": [
    {
     "name": "stdout",
     "output_type": "stream",
     "text": [
      "1\n",
      "2\n",
      "76\n",
      "Unpacking a tuple\n",
      "1\n",
      "2\n",
      "76\n",
      "Unpacking a list\n"
     ]
    },
    {
     "ename": "ValueError",
     "evalue": "too many values to unpack (expected 3)",
     "output_type": "error",
     "traceback": [
      "\u001b[0;31m---------------------------------------------------------------------------\u001b[0m",
      "\u001b[0;31mValueError\u001b[0m                                Traceback (most recent call last)",
      "\u001b[0;32m/var/folders/4r/vwsql4b130bc3tfp0ppql7z80000gn/T/ipykernel_33945/3262301218.py\u001b[0m in \u001b[0;36m<module>\u001b[0;34m\u001b[0m\n\u001b[1;32m     14\u001b[0m \u001b[0mdata_list\u001b[0m \u001b[0;34m=\u001b[0m \u001b[0;34m[\u001b[0m\u001b[0;36m12\u001b[0m\u001b[0;34m,\u001b[0m \u001b[0;36m13\u001b[0m\u001b[0;34m,\u001b[0m \u001b[0;36m14\u001b[0m\u001b[0;34m]\u001b[0m\u001b[0;34m\u001b[0m\u001b[0;34m\u001b[0m\u001b[0m\n\u001b[1;32m     15\u001b[0m \u001b[0mdata_list\u001b[0m\u001b[0;34m.\u001b[0m\u001b[0mappend\u001b[0m\u001b[0;34m(\u001b[0m\u001b[0;36m15\u001b[0m\u001b[0;34m)\u001b[0m\u001b[0;34m\u001b[0m\u001b[0;34m\u001b[0m\u001b[0m\n\u001b[0;32m---> 16\u001b[0;31m \u001b[0mp\u001b[0m\u001b[0;34m,\u001b[0m \u001b[0mq\u001b[0m\u001b[0;34m,\u001b[0m \u001b[0mr\u001b[0m \u001b[0;34m=\u001b[0m \u001b[0mdata_list\u001b[0m\u001b[0;34m\u001b[0m\u001b[0;34m\u001b[0m\u001b[0m\n\u001b[0m\u001b[1;32m     17\u001b[0m \u001b[0mprint\u001b[0m\u001b[0;34m(\u001b[0m\u001b[0mp\u001b[0m\u001b[0;34m)\u001b[0m\u001b[0;34m\u001b[0m\u001b[0;34m\u001b[0m\u001b[0m\n\u001b[1;32m     18\u001b[0m \u001b[0mprint\u001b[0m\u001b[0;34m(\u001b[0m\u001b[0mq\u001b[0m\u001b[0;34m)\u001b[0m\u001b[0;34m\u001b[0m\u001b[0;34m\u001b[0m\u001b[0m\n",
      "\u001b[0;31mValueError\u001b[0m: too many values to unpack (expected 3)"
     ]
    }
   ],
   "source": [
    "x, y, z = 1, 2, 76\n",
    "print(x)\n",
    "print(y)\n",
    "print(z)\n",
    "\n",
    "print(\"Unpacking a tuple\")\n",
    "data = 1, 2, 76\n",
    "x, y, z = data\n",
    "print(x)\n",
    "print(y)\n",
    "print(z)\n",
    "\n",
    "print(\"Unpacking a list\")\n",
    "data_list = [12, 13, 14]\n",
    "data_list.append(15)\n",
    "p, q, r = data_list\n",
    "print(p)\n",
    "print(q)\n",
    "print(r)"
   ]
  },
  {
   "cell_type": "code",
   "execution_count": null,
   "metadata": {},
   "outputs": [],
   "source": [
    "for t in enumerate(\"abcdefgh\"):\n",
    "    index, character = t\n",
    "    print(index, character)\n",
    "\n",
    "index, character = (0, 'a')\n",
    "print(index)\n",
    "print(character)"
   ]
  },
  {
   "cell_type": "code",
   "execution_count": null,
   "metadata": {},
   "outputs": [
    {
     "name": "stdout",
     "output_type": "stream",
     "text": [
      "Album: Welcome to my Nightmare, Artist: Alice Cooper, Year: 1975, Songs: [(1, 'Welcome to my Nightmare'), (2, \"Devil's Food\"), (3, 'The Black Widow'), (4, 'Some Folks'), (5, 'Only Women Bleed')]\n",
      "Album: Bad Company, Artist: Bad Company, Year: 1974, Songs: [(1, \"Can't Get Enough\"), (2, 'Rock Steady'), (3, 'Ready for Love'), (4, \"Don't Let Me Down\"), (5, 'Bad Company'), (6, 'The Way I Choose'), (7, \"Movin' On\"), (8, 'Seagull')]\n",
      "Album: Nightflight, Artist: Budgie, Year: 1981, Songs: [(1, 'I Turned to Stone'), (2, 'Keeping a Rendezvous'), (3, 'Reaper of the Glory'), (4, 'She Used Me Up')]\n",
      "Album: More Mayhem, Artist: Imelda May, Year: 2011, Songs: [(1, 'Pulling the Rug'), (2, 'Psycho'), (3, 'Mayhem'), (4, 'Kentish Town Waltz')]\n"
     ]
    }
   ],
   "source": [
    "albums = [\n",
    "    (\"Welcome to my Nightmare\", \"Alice Cooper\", 1975,\n",
    "    [\n",
    "        (1, \"Welcome to my Nightmare\"),\n",
    "        (2, \"Devil's Food\"),\n",
    "        (3, \"The Black Widow\"),\n",
    "        (4, \"Some Folks\"),\n",
    "        (5, \"Only Women Bleed\"),\n",
    "    ]\n",
    "    ),\n",
    "    (\"Bad Company\", \"Bad Company\", 1974,\n",
    "    [\n",
    "        (1, \"Can't Get Enough\"),\n",
    "        (2, \"Rock Steady\"),\n",
    "        (3, \"Ready for Love\"),\n",
    "        (4, \"Don't Let Me Down\"),\n",
    "        (5, \"Bad Company\"),\n",
    "        (6, \"The Way I Choose\"),\n",
    "        (7, \"Movin' On\"),\n",
    "        (8, \"Seagull\"),\n",
    "    ]\n",
    "    ),\n",
    "    (\"Nightflight\", \"Budgie\", 1981,\n",
    "    [\n",
    "        (1, \"I Turned to Stone\"),\n",
    "        (2, \"Keeping a Rendezvous\"),\n",
    "        (3, \"Reaper of the Glory\"),\n",
    "        (4, \"She Used Me Up\"),\n",
    "    ]\n",
    "    ),\n",
    "    (\"More Mayhem\", \"Imelda May\", 2011,\n",
    "    [\n",
    "        (1, \"Pulling the Rug\"),\n",
    "        (2, \"Psycho\"),\n",
    "        (3, \"Mayhem\"),\n",
    "        (4, \"Kentish Town Waltz\"),\n",
    "    ]\n",
    "    ),\n",
    "]\n",
    "\n",
    "for name, artist, year, songs in albums:\n",
    "    print(\"Album: {}, Artist: {}, Year: {}, Songs: {}\".format(name, artist, year, songs))"
   ]
  },
  {
   "cell_type": "code",
   "execution_count": 10,
   "metadata": {},
   "outputs": [
    {
     "name": "stdout",
     "output_type": "stream",
     "text": [
      "[('Welcome to my Nightmare', 'Alice Cooper', 1975), ('Bad Company', 'Bad Company', 1974), ('Nightflight', 'Budgie', 1981), ('More Mayhem', 'Emilda May', 2011), ('Ride the Lightning', 'Metallica', 1984)]\n"
     ]
    }
   ],
   "source": [
    "print(albums)"
   ]
  },
  {
   "cell_type": "code",
   "execution_count": 20,
   "metadata": {},
   "outputs": [
    {
     "name": "stdout",
     "output_type": "stream",
     "text": [
      "More Mayhem\n"
     ]
    }
   ],
   "source": [
    "album = albums[3][0]\n",
    "print(album)\n",
    "\n"
   ]
  },
  {
   "cell_type": "code",
   "execution_count": 15,
   "metadata": {},
   "outputs": [
    {
     "ename": "IndexError",
     "evalue": "tuple index out of range",
     "output_type": "error",
     "traceback": [
      "\u001b[0;31m---------------------------------------------------------------------------\u001b[0m",
      "\u001b[0;31mIndexError\u001b[0m                                Traceback (most recent call last)",
      "\u001b[0;32m/var/folders/4r/vwsql4b130bc3tfp0ppql7z80000gn/T/ipykernel_33945/3432473425.py\u001b[0m in \u001b[0;36m<module>\u001b[0;34m\u001b[0m\n\u001b[0;32m----> 1\u001b[0;31m \u001b[0mprint\u001b[0m\u001b[0;34m(\u001b[0m\u001b[0malbums\u001b[0m\u001b[0;34m[\u001b[0m\u001b[0;36m3\u001b[0m\u001b[0;34m]\u001b[0m\u001b[0;34m[\u001b[0m\u001b[0;36m3\u001b[0m\u001b[0;34m]\u001b[0m\u001b[0;34m[\u001b[0m\u001b[0;36m2\u001b[0m\u001b[0;34m]\u001b[0m\u001b[0;34m[\u001b[0m\u001b[0;36m1\u001b[0m\u001b[0;34m]\u001b[0m\u001b[0;34m)\u001b[0m\u001b[0;34m\u001b[0m\u001b[0;34m\u001b[0m\u001b[0m\n\u001b[0m",
      "\u001b[0;31mIndexError\u001b[0m: tuple index out of range"
     ]
    }
   ],
   "source": [
    "print(albums[3][3][2][1])"
   ]
  },
  {
   "cell_type": "code",
   "execution_count": null,
   "metadata": {},
   "outputs": [],
   "source": [
    "the_way_i_choose = albums[1][3][5][1]\n",
    "print(the_way_i_choose)"
   ]
  },
  {
   "cell_type": "code",
   "execution_count": null,
   "metadata": {},
   "outputs": [],
   "source": [
    "nightflgiht = albums[2][2]\n",
    "print(nightflgiht)"
   ]
  },
  {
   "cell_type": "code",
   "execution_count": null,
   "metadata": {},
   "outputs": [],
   "source": [
    "track = albums[3][3][3][0]\n",
    "print(track)"
   ]
  },
  {
   "cell_type": "code",
   "execution_count": null,
   "metadata": {},
   "outputs": [],
   "source": [
    "song = albums[2][3][1]\n",
    "print(song)"
   ]
  },
  {
   "cell_type": "code",
   "execution_count": 22,
   "metadata": {},
   "outputs": [
    {
     "name": "stdout",
     "output_type": "stream",
     "text": [
      "Please choose your album (invalid choice exits):\n",
      "1: Welcome to my Nightmare\n",
      "2: Bad Company\n",
      "3: Nightflight\n",
      "4: More Mayhem\n",
      "Please choose your song:\n",
      "1: Welcome to my Nightmare\n",
      "2: Devil's Food\n",
      "3: The Black Widow\n",
      "4: Some Folks\n",
      "5: Only Women Bleed\n",
      "Playing The Black Widow\n",
      "========================================\n",
      "Please choose your album (invalid choice exits):\n",
      "1: Welcome to my Nightmare\n",
      "2: Bad Company\n",
      "3: Nightflight\n",
      "4: More Mayhem\n",
      "Please choose your song:\n",
      "1: Pulling the Rug\n",
      "2: Psycho\n",
      "3: Mayhem\n",
      "4: Kentish Town Waltz\n",
      "========================================\n",
      "Please choose your album (invalid choice exits):\n",
      "1: Welcome to my Nightmare\n",
      "2: Bad Company\n",
      "3: Nightflight\n",
      "4: More Mayhem\n"
     ]
    },
    {
     "ename": "ValueError",
     "evalue": "invalid literal for int() with base 10: ''",
     "output_type": "error",
     "traceback": [
      "\u001b[0;31m---------------------------------------------------------------------------\u001b[0m",
      "\u001b[0;31mValueError\u001b[0m                                Traceback (most recent call last)",
      "\u001b[0;32m/var/folders/4r/vwsql4b130bc3tfp0ppql7z80000gn/T/ipykernel_33945/1070928906.py\u001b[0m in \u001b[0;36m<module>\u001b[0;34m\u001b[0m\n\u001b[1;32m     49\u001b[0m         \u001b[0mprint\u001b[0m\u001b[0;34m(\u001b[0m\u001b[0;34m\"{}: {}\"\u001b[0m\u001b[0;34m.\u001b[0m\u001b[0mformat\u001b[0m\u001b[0;34m(\u001b[0m\u001b[0mindex\u001b[0m \u001b[0;34m+\u001b[0m \u001b[0;36m1\u001b[0m\u001b[0;34m,\u001b[0m \u001b[0mtitle\u001b[0m\u001b[0;34m)\u001b[0m\u001b[0;34m)\u001b[0m\u001b[0;34m\u001b[0m\u001b[0;34m\u001b[0m\u001b[0m\n\u001b[1;32m     50\u001b[0m \u001b[0;34m\u001b[0m\u001b[0m\n\u001b[0;32m---> 51\u001b[0;31m     \u001b[0mchoice\u001b[0m \u001b[0;34m=\u001b[0m \u001b[0mint\u001b[0m\u001b[0;34m(\u001b[0m\u001b[0minput\u001b[0m\u001b[0;34m(\u001b[0m\u001b[0;34m)\u001b[0m\u001b[0;34m)\u001b[0m\u001b[0;34m\u001b[0m\u001b[0;34m\u001b[0m\u001b[0m\n\u001b[0m\u001b[1;32m     52\u001b[0m     \u001b[0;32mif\u001b[0m \u001b[0;36m1\u001b[0m \u001b[0;34m<=\u001b[0m \u001b[0mchoice\u001b[0m \u001b[0;34m<=\u001b[0m \u001b[0mlen\u001b[0m\u001b[0;34m(\u001b[0m\u001b[0malbums\u001b[0m\u001b[0;34m)\u001b[0m\u001b[0;34m:\u001b[0m\u001b[0;34m\u001b[0m\u001b[0;34m\u001b[0m\u001b[0m\n\u001b[1;32m     53\u001b[0m         \u001b[0msongs_list\u001b[0m \u001b[0;34m=\u001b[0m \u001b[0malbums\u001b[0m\u001b[0;34m[\u001b[0m\u001b[0mchoice\u001b[0m \u001b[0;34m-\u001b[0m \u001b[0;36m1\u001b[0m\u001b[0;34m]\u001b[0m\u001b[0;34m[\u001b[0m\u001b[0mSONGS_LIST\u001b[0m\u001b[0;34m]\u001b[0m\u001b[0;34m\u001b[0m\u001b[0;34m\u001b[0m\u001b[0m\n",
      "\u001b[0;31mValueError\u001b[0m: invalid literal for int() with base 10: ''"
     ]
    }
   ],
   "source": [
    "albums = [\n",
    "    (\"Welcome to my Nightmare\", \"Alice Cooper\", 1975,\n",
    "    [\n",
    "        (1, \"Welcome to my Nightmare\"),\n",
    "        (2, \"Devil's Food\"),\n",
    "        (3, \"The Black Widow\"),\n",
    "        (4, \"Some Folks\"),\n",
    "        (5, \"Only Women Bleed\"),\n",
    "    ]\n",
    "    ),\n",
    "    (\"Bad Company\", \"Bad Company\", 1974,\n",
    "    [\n",
    "        (1, \"Can't Get Enough\"),\n",
    "        (2, \"Rock Steady\"),\n",
    "        (3, \"Ready for Love\"),\n",
    "        (4, \"Don't Let Me Down\"),\n",
    "        (5, \"Bad Company\"),\n",
    "        (6, \"The Way I Choose\"),\n",
    "        (7, \"Movin' On\"),\n",
    "        (8, \"Seagull\"),\n",
    "    ]\n",
    "    ),\n",
    "    (\"Nightflight\", \"Budgie\", 1981,\n",
    "    [\n",
    "        (1, \"I Turned to Stone\"),\n",
    "        (2, \"Keeping a Rendezvous\"),\n",
    "        (3, \"Reaper of the Glory\"),\n",
    "        (4, \"She Used Me Up\"),\n",
    "    ]\n",
    "    ),\n",
    "    (\"More Mayhem\", \"Imelda May\", 2011,\n",
    "    [\n",
    "        (1, \"Pulling the Rug\"),\n",
    "        (2, \"Psycho\"),\n",
    "        (3, \"Mayhem\"),\n",
    "        (4, \"Kentish Town Waltz\"),\n",
    "    ]\n",
    "    ),\n",
    "]\n",
    "\n",
    "SONGS_LIST = 3\n",
    "SONG_TITLE_INDEX = 1\n",
    "\n",
    "while True:\n",
    "    print(\"Please choose your album (invalid choice exits):\")\n",
    "    # for index, (name, artist, year, songs) in enumerate(albums):\n",
    "    #     print(\"{}: {}, {}, {}, {}\".format(index + 1, name, artist, year, songs))\n",
    "    for index, (title, artist, year, songs) in enumerate(albums):\n",
    "        print(\"{}: {}\".format(index + 1, title))\n",
    "\n",
    "    choice = int(input())\n",
    "    if 1 <= choice <= len(albums):\n",
    "        songs_list = albums[choice - 1][SONGS_LIST]\n",
    "    else:\n",
    "        break\n",
    "    print(\"Please choose your song:\")\n",
    "    for index, (track, song) in enumerate(songs_list):\n",
    "        print(\"{}: {}\".format(index + 1, song))\n",
    "\n",
    "    song_choice = int(input())\n",
    "    if 1 <= song_choice <= len(songs_list):\n",
    "        title = songs_list[song_choice -1][SONG_TITLE_INDEX]\n",
    "        print(\"Playing {}\".format(title))\n",
    "    print(\"=\"*40)\n"
   ]
  },
  {
   "cell_type": "code",
   "execution_count": null,
   "metadata": {},
   "outputs": [],
   "source": []
  }
 ],
 "metadata": {
  "kernelspec": {
   "display_name": "Python 3.7.12 ('dojo-env')",
   "language": "python",
   "name": "python3"
  },
  "language_info": {
   "codemirror_mode": {
    "name": "ipython",
    "version": 3
   },
   "file_extension": ".py",
   "mimetype": "text/x-python",
   "name": "python",
   "nbconvert_exporter": "python",
   "pygments_lexer": "ipython3",
   "version": "3.7.12"
  },
  "orig_nbformat": 4,
  "vscode": {
   "interpreter": {
    "hash": "54a8271eeb19f76003f8897e8c34a5390884da7f3b817a274b11ae25a52d0ab2"
   }
  }
 },
 "nbformat": 4,
 "nbformat_minor": 2
}
