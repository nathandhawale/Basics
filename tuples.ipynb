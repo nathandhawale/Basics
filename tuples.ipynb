{
 "cells": [
  {
   "cell_type": "code",
   "execution_count": null,
   "metadata": {},
   "outputs": [],
   "source": [
    "t = (\"a\", \"b\", \"c\")\n",
    "print(t)"
   ]
  },
  {
   "cell_type": "code",
   "execution_count": null,
   "metadata": {},
   "outputs": [],
   "source": [
    "name = \"Nathan\"\n",
    "age = 23\n",
    "\n",
    "print(name, age, \"python\", 2022)\n",
    "print((name, age, \"python\", 2022))"
   ]
  },
  {
   "cell_type": "code",
   "execution_count": null,
   "metadata": {},
   "outputs": [],
   "source": [
    "albums = [\n",
    "    (\"Welcome to my Nightmare\", \"Alice Cooper\", 1975),\n",
    "    (\"Bad Company\", \"Bad Company\", 1974),\n",
    "    (\"Nightflight\", \"Budgie\", 1981),\n",
    "    (\"More Mayhem\", \"Emilda May\", 2011),\n",
    "    (\"Ride the Lightning\", \"Metallica\", 1984),\n",
    "]\n",
    "\n",
    "print(len(albums))\n",
    "\n",
    "for album in albums:\n",
    "    name = album[0]\n",
    "    artist = album[1]\n",
    "    year = album[2]\n",
    "    print(\"Album: {}, Artist: {}, Year: {}\".format(name, artist, year))\n",
    "    \n",
    "print()\n",
    "\n",
    "for name, artist, year in albums:\n",
    "    print(\"Album: {}, Artist: {}, Year: {} \".format(name, artist, year))\n",
    "\n",
    "print()\n",
    "\n",
    "for album in albums:\n",
    "    name, artist, year = album\n",
    "    print(\"Album: {}, Artist {}, Year {}\".format(name, artist, year))"
   ]
  },
  {
   "cell_type": "code",
   "execution_count": null,
   "metadata": {},
   "outputs": [],
   "source": [
    "a = b = c = d = e = f = 42\n",
    "print(c)\n"
   ]
  },
  {
   "cell_type": "code",
   "execution_count": null,
   "metadata": {},
   "outputs": [],
   "source": [
    "x, y, z = 1, 2, 76\n",
    "print(x)\n",
    "print(y)\n",
    "print(z)\n",
    "\n",
    "print(\"Unpacking a tuple\")\n",
    "data = 1, 2, 76\n",
    "x, y, z = data\n",
    "print(x)\n",
    "print(y)\n",
    "print(z)\n",
    "\n",
    "print(\"Unpacking a list\")\n",
    "data_list = [12, 13, 14]\n",
    "data_list.append(15)\n",
    "p, q, r = data_list\n",
    "print(p)\n",
    "print(q)\n",
    "print(r)"
   ]
  },
  {
   "cell_type": "code",
   "execution_count": null,
   "metadata": {},
   "outputs": [],
   "source": [
    "for t in enumerate(\"abcdefgh\"):\n",
    "    index, character = t\n",
    "    print(index, character)\n",
    "\n",
    "index, character = (0, 'a')\n",
    "print(index)\n",
    "print(character)"
   ]
  },
  {
   "cell_type": "code",
   "execution_count": null,
   "metadata": {},
   "outputs": [],
   "source": [
    "albums = [\n",
    "    (\"Welcome to my Nightmare\", \"Alice Cooper\", 1975,\n",
    "    [\n",
    "        (1, \"Welcome to my Nightmare\"),\n",
    "        (2, \"Devil's Food\"),\n",
    "        (3, \"The Black Widow\"),\n",
    "        (4, \"Some Folks\"),\n",
    "        (5, \"Only Women Bleed\"),\n",
    "    ]\n",
    "    ),\n",
    "    (\"Bad Company\", \"Bad Company\", 1974,\n",
    "    [\n",
    "        (1, \"Can't Get Enough\"),\n",
    "        (2, \"Rock Steady\"),\n",
    "        (3, \"Ready for Love\"),\n",
    "        (4, \"Don't Let Me Down\"),\n",
    "        (5, \"Bad Company\"),\n",
    "        (6, \"The Way I Choose\"),\n",
    "        (7, \"Movin' On\"),\n",
    "        (8, \"Seagull\"),\n",
    "    ]\n",
    "    ),\n",
    "    (\"Nightflight\", \"Budgie\", 1981,\n",
    "    [\n",
    "        (1, \"I Turned to Stone\"),\n",
    "        (2, \"Keeping a Rendezvous\"),\n",
    "        (3, \"Reaper of the Glory\"),\n",
    "        (4, \"She Used Me Up\"),\n",
    "    ]\n",
    "    ),\n",
    "    (\"More Mayhem\", \"Imelda May\", 2011,\n",
    "    [\n",
    "        (1, \"Pulling the Rug\"),\n",
    "        (2, \"Psycho\"),\n",
    "        (3, \"Mayhem\"),\n",
    "        (4, \"Kentish Town Waltz\"),\n",
    "    ]\n",
    "    ),\n",
    "]\n",
    "\n",
    "for name, artist, year, songs in albums:\n",
    "    print(\"Album: {}, Artist: {}, Year: {}, Songs: {}\".format(name, artist, year, songs))"
   ]
  },
  {
   "cell_type": "code",
   "execution_count": null,
   "metadata": {},
   "outputs": [],
   "source": [
    "album = albums[3]\n",
    "print(album)\n",
    "\n",
    "songs = album[3]\n",
    "print(songs)\n",
    "\n",
    "song = songs[2]\n",
    "print(song)\n",
    "\n",
    "title = song[1]\n",
    "print(title)\n",
    "\n",
    "mayhem = albums[3][3][2][1]\n",
    "print(mayhem)"
   ]
  },
  {
   "cell_type": "code",
   "execution_count": null,
   "metadata": {},
   "outputs": [],
   "source": [
    "print(albums[3][3][2][1])"
   ]
  },
  {
   "cell_type": "code",
   "execution_count": null,
   "metadata": {},
   "outputs": [],
   "source": [
    "the_way_i_choose = albums[1][3][5][1]\n",
    "print(the_way_i_choose)"
   ]
  },
  {
   "cell_type": "code",
   "execution_count": null,
   "metadata": {},
   "outputs": [],
   "source": [
    "nightflgiht = albums[2][2]\n",
    "print(nightflgiht)"
   ]
  },
  {
   "cell_type": "code",
   "execution_count": null,
   "metadata": {},
   "outputs": [],
   "source": [
    "track = albums[3][3][3][0]\n",
    "print(track)"
   ]
  },
  {
   "cell_type": "code",
   "execution_count": null,
   "metadata": {},
   "outputs": [],
   "source": [
    "song = albums[2][3][1]\n",
    "print(song)"
   ]
  },
  {
   "cell_type": "code",
   "execution_count": 85,
   "metadata": {},
   "outputs": [
    {
     "name": "stdout",
     "output_type": "stream",
     "text": [
      "Please choose your album (invalid choice exits):\n",
      "1: Welcome to my Nightmare\n",
      "2: Bad Company\n",
      "3: Nightflight\n",
      "4: More Mayhem\n",
      "Please choose your song:\n",
      "1: I Turned to Stone\n",
      "2: Keeping a Rendezvous\n",
      "3: Reaper of the Glory\n",
      "4: She Used Me Up\n",
      "Playing Reaper of the Glory\n",
      "========================================\n",
      "Please choose your album (invalid choice exits):\n",
      "1: Welcome to my Nightmare\n",
      "2: Bad Company\n",
      "3: Nightflight\n",
      "4: More Mayhem\n",
      "Please choose your song:\n",
      "1: I Turned to Stone\n",
      "2: Keeping a Rendezvous\n",
      "3: Reaper of the Glory\n",
      "4: She Used Me Up\n",
      "Playing I Turned to Stone\n",
      "========================================\n",
      "Please choose your album (invalid choice exits):\n",
      "1: Welcome to my Nightmare\n",
      "2: Bad Company\n",
      "3: Nightflight\n",
      "4: More Mayhem\n"
     ]
    }
   ],
   "source": [
    "albums = [\n",
    "    (\"Welcome to my Nightmare\", \"Alice Cooper\", 1975,\n",
    "    [\n",
    "        (1, \"Welcome to my Nightmare\"),\n",
    "        (2, \"Devil's Food\"),\n",
    "        (3, \"The Black Widow\"),\n",
    "        (4, \"Some Folks\"),\n",
    "        (5, \"Only Women Bleed\"),\n",
    "    ]\n",
    "    ),\n",
    "    (\"Bad Company\", \"Bad Company\", 1974,\n",
    "    [\n",
    "        (1, \"Can't Get Enough\"),\n",
    "        (2, \"Rock Steady\"),\n",
    "        (3, \"Ready for Love\"),\n",
    "        (4, \"Don't Let Me Down\"),\n",
    "        (5, \"Bad Company\"),\n",
    "        (6, \"The Way I Choose\"),\n",
    "        (7, \"Movin' On\"),\n",
    "        (8, \"Seagull\"),\n",
    "    ]\n",
    "    ),\n",
    "    (\"Nightflight\", \"Budgie\", 1981,\n",
    "    [\n",
    "        (1, \"I Turned to Stone\"),\n",
    "        (2, \"Keeping a Rendezvous\"),\n",
    "        (3, \"Reaper of the Glory\"),\n",
    "        (4, \"She Used Me Up\"),\n",
    "    ]\n",
    "    ),\n",
    "    (\"More Mayhem\", \"Imelda May\", 2011,\n",
    "    [\n",
    "        (1, \"Pulling the Rug\"),\n",
    "        (2, \"Psycho\"),\n",
    "        (3, \"Mayhem\"),\n",
    "        (4, \"Kentish Town Waltz\"),\n",
    "    ]\n",
    "    ),\n",
    "]\n",
    "\n",
    "SONGS_LIST = 3\n",
    "SONG_TITLE_INDEX = 1\n",
    "\n",
    "while True:\n",
    "    print(\"Please choose your album (invalid choice exits):\")\n",
    "    # for index, (name, artist, year, songs) in enumerate(albums):\n",
    "    #     print(\"{}: {}, {}, {}, {}\".format(index + 1, name, artist, year, songs))\n",
    "    for index, (title, artist, year, songs) in enumerate(albums):\n",
    "        print(\"{}: {}\".format(index + 1, title))\n",
    "\n",
    "    choice = int(input())\n",
    "    if 1 <= choice <= len(albums):\n",
    "        songs_list = albums[choice - 1][SONGS_LIST]\n",
    "    else:\n",
    "        break\n",
    "    print(\"Please choose your song:\")\n",
    "    for index, (track, song) in enumerate(songs_list):\n",
    "        print(\"{}: {}\".format(index + 1, song))\n",
    "\n",
    "    song_choice = int(input())\n",
    "    if 1 <= song_choice <= len(songs_list):\n",
    "        title = songs_list[song_choice -1][SONG_TITLE_INDEX]\n",
    "        print(\"Playing {}\".format(title))\n",
    "    print(\"=\"*40)\n"
   ]
  },
  {
   "cell_type": "code",
   "execution_count": null,
   "metadata": {},
   "outputs": [],
   "source": []
  }
 ],
 "metadata": {
  "kernelspec": {
   "display_name": "Python 3.7.12 ('dojo-env')",
   "language": "python",
   "name": "python3"
  },
  "language_info": {
   "codemirror_mode": {
    "name": "ipython",
    "version": 3
   },
   "file_extension": ".py",
   "mimetype": "text/x-python",
   "name": "python",
   "nbconvert_exporter": "python",
   "pygments_lexer": "ipython3",
   "version": "3.7.12"
  },
  "orig_nbformat": 4,
  "vscode": {
   "interpreter": {
    "hash": "54a8271eeb19f76003f8897e8c34a5390884da7f3b817a274b11ae25a52d0ab2"
   }
  }
 },
 "nbformat": 4,
 "nbformat_minor": 2
}
