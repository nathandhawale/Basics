{
 "cells": [
  {
   "cell_type": "code",
   "execution_count": 2,
   "metadata": {},
   "outputs": [
    {
     "name": "stdout",
     "output_type": "stream",
     "text": [
      "10\n"
     ]
    }
   ],
   "source": [
    "class Node:\n",
    "    def __init__(self, data):\n",
    "        self.left = None\n",
    "        self.right = None\n",
    "        self.data = data\n",
    "    def PrintTree(self):\n",
    "        print(self.data)\n",
    "\n",
    "root = Node(10)\n",
    "root.PrintTree()"
   ]
  },
  {
   "cell_type": "code",
   "execution_count": 7,
   "metadata": {},
   "outputs": [
    {
     "name": "stdout",
     "output_type": "stream",
     "text": [
      "Inorder Traversal\n",
      "40 20 10 50 60 30 \n",
      "Preorder Traversal\n",
      "10 20 40 30 50 60 \n",
      "Postorder Traversal\n",
      "40 20 60 50 30 10 "
     ]
    }
   ],
   "source": [
    "class _Node:\n",
    "    __slots__ = '_element', '_left', '_right'\n",
    "\n",
    "    def __init__(self, element, left=None, right=None):\n",
    "        self._element = element\n",
    "        self._left = left\n",
    "        self._right = right\n",
    "\n",
    "class BinaryTree:\n",
    "    def __init__(self):\n",
    "        self._root = None\n",
    "\n",
    "    def maketree(self, e, left, right):\n",
    "        self._root = _Node(e,left._root,right._root)\n",
    "\n",
    "    def inorder(self,troot):\n",
    "        if troot:\n",
    "            self.inorder(troot._left)\n",
    "            print(troot._element,end=' ')\n",
    "            self.inorder(troot._right)\n",
    "\n",
    "    def preorder(self,troot):\n",
    "        if troot:\n",
    "            print(troot._element,end=' ')\n",
    "            self.preorder(troot._left)\n",
    "            self.preorder(troot._right)\n",
    "\n",
    "    def postorder(self,troot):\n",
    "        if troot:\n",
    "            self.postorder(troot._left)\n",
    "            self.postorder(troot._right)\n",
    "            print(troot._element, end=' ')\n",
    "\n",
    "\n",
    "x = BinaryTree()\n",
    "y = BinaryTree()\n",
    "z = BinaryTree()\n",
    "r = BinaryTree()\n",
    "s = BinaryTree()\n",
    "t = BinaryTree()\n",
    "a = BinaryTree()\n",
    "x.maketree(40,a,a)\n",
    "y.maketree(60,a,a)\n",
    "z.maketree(20,x,a)\n",
    "r.maketree(50,a,y)\n",
    "s.maketree(30,r,a)\n",
    "t.maketree(10,z,s)\n",
    "print('Inorder Traversal')\n",
    "t.inorder(t._root)\n",
    "print()\n",
    "print('Preorder Traversal')\n",
    "t.preorder(t._root)\n",
    "print()\n",
    "print('Postorder Traversal')\n",
    "t.postorder(t._root)"
   ]
  },
  {
   "cell_type": "code",
   "execution_count": null,
   "metadata": {},
   "outputs": [],
   "source": []
  }
 ],
 "metadata": {
  "kernelspec": {
   "display_name": "Python 3.7.12 ('dojo-env')",
   "language": "python",
   "name": "python3"
  },
  "language_info": {
   "codemirror_mode": {
    "name": "ipython",
    "version": 3
   },
   "file_extension": ".py",
   "mimetype": "text/x-python",
   "name": "python",
   "nbconvert_exporter": "python",
   "pygments_lexer": "ipython3",
   "version": "3.7.12"
  },
  "orig_nbformat": 4,
  "vscode": {
   "interpreter": {
    "hash": "54a8271eeb19f76003f8897e8c34a5390884da7f3b817a274b11ae25a52d0ab2"
   }
  }
 },
 "nbformat": 4,
 "nbformat_minor": 2
}
