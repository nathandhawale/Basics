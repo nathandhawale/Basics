{
 "cells": [
  {
   "cell_type": "code",
   "execution_count": null,
   "metadata": {},
   "outputs": [],
   "source": [
    "def multiply(x: float, y:float):\n",
    "    \"\"\"\n",
    "    Multiply 2 Numbers\n",
    "\n",
    "    Function will take 2 datatypes and multiply them together. It is meant for 2 ints to multiple, but a string can be multiplied by 'y'\n",
    "\n",
    "    param x: first number to multiply\n",
    "    param y: the number to multiply 'x' by\n",
    "\n",
    "    returns the product of the 2 ints\n",
    "    \"\"\"\n",
    "    result = x * y\n",
    "    return result\n",
    "\n",
    "multiply(10.59, 4.372)"
   ]
  },
  {
   "cell_type": "code",
   "execution_count": null,
   "metadata": {},
   "outputs": [],
   "source": [
    "for val in range(1,5,1):\n",
    "    two_times = multiply(2, val)\n",
    "    print(two_times)"
   ]
  },
  {
   "cell_type": "code",
   "execution_count": null,
   "metadata": {},
   "outputs": [],
   "source": [
    " def is_palindrome(string: str) -> bool:\n",
    "    \"\"\"\n",
    "    Check to see if sting is a palindrome\n",
    "\n",
    "    Palindrome is word that reads forward and backwards\n",
    "\n",
    "    :param string: string that needs to be checked\n",
    "    :return: True if 'string' is palindrome, otherwise False\n",
    "    \"\"\"\n",
    "    return string[::-1].casefold() == string.casefold()\n",
    "    # backwards = string[::-1]\n",
    "    # return backwards == string\n",
    "\n",
    "word = input(\"Please enter a word to check: \")\n",
    "if is_palindrome(word):\n",
    "    print(\"'{}' is a palindrome\".format(word))\n",
    "else:\n",
    "    print(\"'{} is not a palindrome'\".format(word))"
   ]
  },
  {
   "cell_type": "code",
   "execution_count": null,
   "metadata": {},
   "outputs": [],
   "source": [
    "def palindrome_sentence(sentence: str) -> bool:\n",
    "    \"\"\"\n",
    "    Checks to see if a sentence is a palindrome\n",
    "    Funciton ignores, capitalizaition, white space and punctuation\n",
    "\n",
    "    :param sentence: the sentence to check\n",
    "    :result: True if 'sentence is palindrome', otherwise False\n",
    "    \"\"\"\n",
    "    string = \"\"\n",
    "    for char in sentence:\n",
    "        if char.isalnum():\n",
    "            string += char\n",
    "    return string[::-1].casefold() == string.casefold()\n",
    "\n",
    "letters = input(\"Please enter a sentence to check: \")\n",
    "if palindrome_sentence(letters):\n",
    "    print(\"'{}' is a palindrome\".format(letters))\n",
    "else:\n",
    "    print(\"'{}' is not a palindrome\".format(letters))"
   ]
  },
  {
   "cell_type": "code",
   "execution_count": null,
   "metadata": {},
   "outputs": [],
   "source": [
    "def multiply(x, y):\n",
    "    result = x * y\n",
    "    return result\n",
    "answer = multiply(18,3)\n",
    "print(answer)"
   ]
  },
  {
   "cell_type": "code",
   "execution_count": 1,
   "metadata": {},
   "outputs": [
    {
     "name": "stdout",
     "output_type": "stream",
     "text": [
      "************************************************************\n",
      "**       Always look on the bright side of life...        **\n",
      "**              If life seems jolly rotten,               **\n",
      "**   And that's to laugh and smile and dance and sing,    **\n",
      "**                                                        **\n",
      "**           When you're feeling in the dumps,            **\n",
      "**                 Don't be silly chumps,                 **\n",
      "**  Just purse your lips and whistle - that's the thing!  **\n",
      "**    And... always look on the bright side of life...    **\n",
      "************************************************************\n"
     ]
    }
   ],
   "source": [
    "def banner_text(text=\" \", screen_width=90):\n",
    "    if len(text) > screen_width - 4:\n",
    "        raise ValueError(\"String {0} larger than specified width {1}\".format(text, screen_width))\n",
    "\n",
    "    if text == \"*\":\n",
    "        print(\"*\" * screen_width)\n",
    "    else:\n",
    "        centered_text = text.center(screen_width - 4)\n",
    "        output_string = \"**{0}**\".format(centered_text)\n",
    "        print(output_string)\n",
    "\n",
    "banner_text(\"*\", 60)\n",
    "banner_text(\"Always look on the bright side of life...\", 60)\n",
    "banner_text(\"If life seems jolly rotten,\", 60)\n",
    "banner_text(\"And that's to laugh and smile and dance and sing,\", 60)\n",
    "banner_text(screen_width=60)\n",
    "banner_text(\"When you're feeling in the dumps,\", 60)\n",
    "banner_text(\"Don't be silly chumps,\", 60)\n",
    "banner_text(\"Just purse your lips and whistle - that's the thing!\", 60)\n",
    "banner_text(\"And... always look on the bright side of life...\", 60)\n",
    "banner_text(\"*\", 60)"
   ]
  },
  {
   "cell_type": "code",
   "execution_count": 2,
   "metadata": {},
   "outputs": [
    {
     "name": "stdout",
     "output_type": "stream",
     "text": [
      "Help on function get_integer in module __main__:\n",
      "\n",
      "get_integer(prompt)\n",
      "    Get an integer from Standard Input (stdin).\n",
      "    \n",
      "    The function will continue looping, and prompting the user, until a valid 'int' is entered.\n",
      "    \n",
      "    :param prompt: The string the user will see, when they're prompted to enter the  value.\n",
      "    \n",
      "    :return: The integer that the user enters\n",
      "\n",
      "101\n",
      "Please guess number between 1 and 1000:\n",
      "Please guess higher\n",
      "Please guess lower\n",
      "Well done, you guessed it\n"
     ]
    }
   ],
   "source": [
    "import random\n",
    "\n",
    "def get_integer(prompt):\n",
    "    \"\"\"\n",
    "    Get an integer from Standard Input (stdin).\n",
    "\n",
    "    The function will continue looping, and prompting the user, until a valid 'int' is entered.\n",
    "\n",
    "    :param prompt: The string the user will see, when they're prompted to enter the  value.\n",
    "\n",
    "    :return: The integer that the user enters\n",
    "    \"\"\"\n",
    "    while True:\n",
    "        temp = input(prompt)\n",
    "        if temp.isnumeric():\n",
    "            return int(temp)\n",
    "\n",
    "\n",
    "help(get_integer)\n",
    "highest = 1000\n",
    "answer = random.randint(1, highest)\n",
    "print(answer)\n",
    "guess = 0\n",
    "print(\"Please guess number between 1 and {}:\".format(highest))\n",
    "\n",
    "while guess != answer:\n",
    "    guess = get_integer(\": \")\n",
    "\n",
    "    if guess == 0:\n",
    "        break\n",
    "\n",
    "\n",
    "    if guess == answer:\n",
    "        print(\"Well done, you guessed it\")\n",
    "        break\n",
    "    else:\n",
    "        if guess < answer:\n",
    "            print(\"Please guess higher\")\n",
    "        else:\n",
    "           print(\"Please guess lower\") \n"
   ]
  },
  {
   "cell_type": "code",
   "execution_count": null,
   "metadata": {},
   "outputs": [],
   "source": [
    " def fibonacci(n):\n",
    "    \"\"\"Return the 'n' th Fibonacci number, for positive 'n'.\"\"\"\n",
    "    if 0 <= n <= 1:\n",
    "        return n\n",
    "\n",
    "    n_minus1, n_minus2 = 1, 0\n",
    "\n",
    "    result = None\n",
    "    for f in range(n - 1):\n",
    "        result = n_minus2 + n_minus1\n",
    "        n_minus2 = n_minus1\n",
    "        n_minus1 = result\n",
    "\n",
    "    return result\n",
    "\n",
    "for i in range(36):\n",
    "    print(i, fibonacci(i))"
   ]
  },
  {
   "cell_type": "code",
   "execution_count": null,
   "metadata": {},
   "outputs": [],
   "source": []
  }
 ],
 "metadata": {
  "kernelspec": {
   "display_name": "Python 3.7.12 ('dojo-env')",
   "language": "python",
   "name": "python3"
  },
  "language_info": {
   "codemirror_mode": {
    "name": "ipython",
    "version": 3
   },
   "file_extension": ".py",
   "mimetype": "text/x-python",
   "name": "python",
   "nbconvert_exporter": "python",
   "pygments_lexer": "ipython3",
   "version": "3.7.12"
  },
  "orig_nbformat": 4,
  "vscode": {
   "interpreter": {
    "hash": "54a8271eeb19f76003f8897e8c34a5390884da7f3b817a274b11ae25a52d0ab2"
   }
  }
 },
 "nbformat": 4,
 "nbformat_minor": 2
}
