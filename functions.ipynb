{
 "cells": [
  {
   "cell_type": "code",
   "execution_count": 4,
   "metadata": {},
   "outputs": [
    {
     "data": {
      "text/plain": [
       "42.0"
      ]
     },
     "execution_count": 4,
     "metadata": {},
     "output_type": "execute_result"
    }
   ],
   "source": [
    "def multiply(x, y):\n",
    "    result = x * y\n",
    "    return result\n",
    "\n",
    "multiply(10.5, 4)"
   ]
  },
  {
   "cell_type": "code",
   "execution_count": 5,
   "metadata": {},
   "outputs": [
    {
     "name": "stdout",
     "output_type": "stream",
     "text": [
      "2\n",
      "4\n",
      "6\n",
      "8\n"
     ]
    }
   ],
   "source": [
    "for val in range(1,5,1):\n",
    "    two_times = multiply(2, val)\n",
    "    print(two_times)"
   ]
  },
  {
   "cell_type": "code",
   "execution_count": 11,
   "metadata": {},
   "outputs": [
    {
     "name": "stdout",
     "output_type": "stream",
     "text": [
      "'Radar' is a palindrome\n"
     ]
    }
   ],
   "source": [
    " def is_palindrome(string):\n",
    "    return string[::-1].casefold() == string.casefold()\n",
    "    # backwards = string[::-1]\n",
    "    # return backwards == string\n",
    "\n",
    "word = input(\"Please enter a word to check: \")\n",
    "if is_palindrome(word):\n",
    "    print(\"'{}' is a palindrome\".format(word))\n",
    "else:\n",
    "    print(\"'{} is not a palindrome'\".format(word))"
   ]
  },
  {
   "cell_type": "code",
   "execution_count": 18,
   "metadata": {},
   "outputs": [
    {
     "name": "stdout",
     "output_type": "stream",
     "text": [
      "'Was it a car or a cat I saw' is a palindrome\n"
     ]
    }
   ],
   "source": [
    "def palindrome_sentence(sentence):\n",
    "    string = \"\"\n",
    "    for char in sentence:\n",
    "        if char.isalnum():\n",
    "            string += char\n",
    "    return string[::-1].casefold() == string.casefold()\n",
    "\n",
    "letters = input(\"Please enter a sentence to check: \")\n",
    "if palindrome_sentence(letters):\n",
    "    print(\"'{}' is a palindrome\".format(letters))\n",
    "else:\n",
    "    print(\"'{}' is not a palindrome\".format(letters))"
   ]
  },
  {
   "cell_type": "code",
   "execution_count": 2,
   "metadata": {},
   "outputs": [
    {
     "name": "stdout",
     "output_type": "stream",
     "text": [
      "(<module 'random' from '/Users/nathandhawale/opt/anaconda3/envs/dojo-env/lib/python3.7/random.py'>, 595)\n",
      "Please guess number between 1 and 1000:\n"
     ]
    },
    {
     "ename": "TypeError",
     "evalue": "'<' not supported between instances of 'int' and 'tuple'",
     "output_type": "error",
     "traceback": [
      "\u001b[0;31m---------------------------------------------------------------------------\u001b[0m",
      "\u001b[0;31mTypeError\u001b[0m                                 Traceback (most recent call last)",
      "\u001b[0;32m/var/folders/4r/vwsql4b130bc3tfp0ppql7z80000gn/T/ipykernel_17650/807250376.py\u001b[0m in \u001b[0;36m<module>\u001b[0;34m\u001b[0m\n\u001b[1;32m     23\u001b[0m         \u001b[0;32mbreak\u001b[0m\u001b[0;34m\u001b[0m\u001b[0;34m\u001b[0m\u001b[0m\n\u001b[1;32m     24\u001b[0m     \u001b[0;32melse\u001b[0m\u001b[0;34m:\u001b[0m\u001b[0;34m\u001b[0m\u001b[0;34m\u001b[0m\u001b[0m\n\u001b[0;32m---> 25\u001b[0;31m         \u001b[0;32mif\u001b[0m \u001b[0mguess\u001b[0m \u001b[0;34m<\u001b[0m \u001b[0manswer\u001b[0m\u001b[0;34m:\u001b[0m\u001b[0;34m\u001b[0m\u001b[0;34m\u001b[0m\u001b[0m\n\u001b[0m\u001b[1;32m     26\u001b[0m             \u001b[0mprint\u001b[0m\u001b[0;34m(\u001b[0m\u001b[0;34m\"Please guess higher\"\u001b[0m\u001b[0;34m)\u001b[0m\u001b[0;34m\u001b[0m\u001b[0;34m\u001b[0m\u001b[0m\n\u001b[1;32m     27\u001b[0m         \u001b[0;32melse\u001b[0m\u001b[0;34m:\u001b[0m\u001b[0;34m\u001b[0m\u001b[0;34m\u001b[0m\u001b[0m\n",
      "\u001b[0;31mTypeError\u001b[0m: '<' not supported between instances of 'int' and 'tuple'"
     ]
    }
   ],
   "source": [
    "import random\n",
    "\n",
    "highest = 1000\n",
    "answer = random,random.randint(1, highest)\n",
    "print(answer)\n",
    "guess = 0\n",
    "print(\"Please guess number between 1 and {}:\".format(highest))\n",
    "\n",
    "def get_integer(prompt):\n",
    "    while True:\n",
    "        temp = input(prompt)\n",
    "        if temp.isnumeric():\n",
    "            return int(temp)\n",
    "\n",
    "\n",
    "while guess != answer:\n",
    "    guess = get_integer(\": \")\n",
    "\n",
    "    if guess == 0:\n",
    "        break\n",
    "    elif guess == answer:\n",
    "        print(\"Well done, you guessed it\")\n",
    "        break\n",
    "    else:\n",
    "        if guess < answer:\n",
    "            print(\"Please guess higher\")\n",
    "        else:\n",
    "            print(\"Please guess lower\")"
   ]
  },
  {
   "cell_type": "code",
   "execution_count": null,
   "metadata": {},
   "outputs": [],
   "source": []
  }
 ],
 "metadata": {
  "kernelspec": {
   "display_name": "Python 3.7.12 ('dojo-env')",
   "language": "python",
   "name": "python3"
  },
  "language_info": {
   "codemirror_mode": {
    "name": "ipython",
    "version": 3
   },
   "file_extension": ".py",
   "mimetype": "text/x-python",
   "name": "python",
   "nbconvert_exporter": "python",
   "pygments_lexer": "ipython3",
   "version": "3.7.12"
  },
  "orig_nbformat": 4,
  "vscode": {
   "interpreter": {
    "hash": "54a8271eeb19f76003f8897e8c34a5390884da7f3b817a274b11ae25a52d0ab2"
   }
  }
 },
 "nbformat": 4,
 "nbformat_minor": 2
}
