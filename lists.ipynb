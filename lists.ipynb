{
 "cells": [
  {
   "cell_type": "code",
   "execution_count": 5,
   "metadata": {},
   "outputs": [
    {
     "name": "stdout",
     "output_type": "stream",
     "text": [
      "computer\n",
      "monitor\n",
      "keyboard\n",
      "mouse\n",
      "mouse mat\n",
      "\n",
      "['computer', 'monitor', 'keyboard']\n",
      "mouse mat\n"
     ]
    }
   ],
   "source": [
    "computer_parts = [\n",
    "    \"computer\", \n",
    "    \"monitor\", \n",
    "    \"keyboard\", \n",
    "    \"mouse\", \"mouse mat\"\n",
    "    ]\n",
    "\n",
    "for part in computer_parts:\n",
    "    print(part)\n",
    "\n",
    "print()\n",
    "print(computer_parts[0:3])\n",
    "print(computer_parts[-1])"
   ]
  },
  {
   "cell_type": "markdown",
   "metadata": {},
   "source": [
    "Immutable Objects"
   ]
  },
  {
   "cell_type": "code",
   "execution_count": 7,
   "metadata": {},
   "outputs": [
    {
     "name": "stdout",
     "output_type": "stream",
     "text": [
      "4332854384\n",
      "4332854384\n",
      "4332855328\n"
     ]
    }
   ],
   "source": [
    "result = True\n",
    "another_result = result\n",
    "print(id(result))\n",
    "print(id(another_result))\n",
    "\n",
    "result = False\n",
    "print(id(result))"
   ]
  },
  {
   "cell_type": "code",
   "execution_count": 8,
   "metadata": {},
   "outputs": [
    {
     "name": "stdout",
     "output_type": "stream",
     "text": [
      "140658173280432\n",
      "140658173280432\n"
     ]
    }
   ],
   "source": [
    "result = \"Correct\"\n",
    "another_result = result\n",
    "print(id(result))\n",
    "print(id(another_result))"
   ]
  },
  {
   "cell_type": "code",
   "execution_count": 9,
   "metadata": {},
   "outputs": [
    {
     "name": "stdout",
     "output_type": "stream",
     "text": [
      "140658173276848\n"
     ]
    }
   ],
   "source": [
    "result += \"ish\"\n",
    "print(id(result))"
   ]
  },
  {
   "cell_type": "markdown",
   "metadata": {},
   "source": [
    "Mutable Objects"
   ]
  },
  {
   "cell_type": "code",
   "execution_count": 10,
   "metadata": {},
   "outputs": [
    {
     "name": "stdout",
     "output_type": "stream",
     "text": [
      "140659249354384\n",
      "140659249354384\n"
     ]
    }
   ],
   "source": [
    "shopping_list = [\n",
    "    \"milk\",\n",
    "    \"pasta\",\n",
    "    \"eggs\",\n",
    "    \"spam\",\n",
    "    \"bread\",\n",
    "    \"rice\"\n",
    "]\n",
    "another_list = shopping_list\n",
    "print(id(shopping_list))\n",
    "print(id(another_list))"
   ]
  },
  {
   "cell_type": "code",
   "execution_count": 11,
   "metadata": {},
   "outputs": [
    {
     "name": "stdout",
     "output_type": "stream",
     "text": [
      "['milk', 'pasta', 'eggs', 'spam', 'bread', 'rice', 'cookies']\n"
     ]
    }
   ],
   "source": [
    "shopping_list += [\"cookies\"]\n",
    "print(shopping_list)"
   ]
  },
  {
   "cell_type": "code",
   "execution_count": 12,
   "metadata": {},
   "outputs": [
    {
     "data": {
      "text/plain": [
       "['milk', 'pasta', 'eggs', 'spam', 'bread', 'rice', 'cookies']"
      ]
     },
     "execution_count": 12,
     "metadata": {},
     "output_type": "execute_result"
    }
   ],
   "source": [
    "another_list"
   ]
  },
  {
   "cell_type": "code",
   "execution_count": 13,
   "metadata": {},
   "outputs": [
    {
     "name": "stdout",
     "output_type": "stream",
     "text": [
      "['milk', 'pasta', 'eggs', 'spam', 'bread', 'rice', 'cookies']\n",
      "Adding cream\n",
      "['milk', 'pasta', 'eggs', 'spam', 'bread', 'rice', 'cookies', 'cream']\n",
      "['milk', 'pasta', 'eggs', 'spam', 'bread', 'rice', 'cookies', 'cream']\n"
     ]
    }
   ],
   "source": [
    "a = b = c = d = e = f = another_list\n",
    "print(a)\n",
    "\n",
    "print(\"Adding cream\")\n",
    "b.append(\"cream\")\n",
    "print(c)\n",
    "print(d)\n"
   ]
  },
  {
   "cell_type": "code",
   "execution_count": 47,
   "metadata": {},
   "outputs": [
    {
     "name": "stdout",
     "output_type": "stream",
     "text": [
      "2\n",
      "8\n",
      "1\n",
      "9\n",
      "\n",
      "4\n",
      "5\n",
      "\n",
      "1\n",
      "[2, 4, 6, 8, 1, 3, 5, 7, 9]\n",
      "[2, 4, 6, 8, 1, 3, 5, 7, 9]\n",
      "[9, 8, 7, 6, 5, 4, 3, 2, 1]\n",
      "[9, 8, 7, 6, 5, 4, 3, 2, 1]\n"
     ]
    }
   ],
   "source": [
    "even = [2,4,6,8]\n",
    "odd = [1,3,5,7,9]\n",
    "\n",
    "print(min(even))\n",
    "print(max(even))\n",
    "print(min(odd))\n",
    "print(max(odd))\n",
    "print()\n",
    "\n",
    "print(len(even))\n",
    "print(len(odd))\n",
    "print()\n",
    "\n",
    "print(\"Mississippi\".count(\"issi\"))\n",
    "even.extend(odd)\n",
    "print(even)\n",
    "another_even = even\n",
    "print(another_even)\n",
    "\n",
    "even.sort(reverse = True)\n",
    "print(even)\n",
    "print(another_even)\n",
    "\n"
   ]
  },
  {
   "cell_type": "code",
   "execution_count": 42,
   "metadata": {},
   "outputs": [
    {
     "name": "stdout",
     "output_type": "stream",
     "text": [
      "['1', '2', '3', '4', '5', '6']\n",
      "Please add options from the list below:\n",
      "1: Computer\n",
      "2: Monitor\n",
      "3: Keyboard\n",
      "4: Mouse\n",
      "5: HDMI Cable\n",
      "6: DVD Drive\n",
      "Adding 1\n",
      "Your list now contains: ['Computer']\n",
      "Adding 3\n",
      "Your list now contains: ['Computer', 'Keyboard']\n",
      "Adding 2\n",
      "Your list now contains: ['Computer', 'Keyboard', 'Monitor']\n",
      "Removing 2\n",
      "Your list now contains: ['Computer', 'Keyboard']\n",
      "['Computer', 'Keyboard']\n"
     ]
    }
   ],
   "source": [
    "available_parts = [\n",
    "    \"Computer\",\n",
    "    \"Monitor\",\n",
    "    \"Keyboard\",\n",
    "    \"Mouse\",\n",
    "    \"HDMI Cable\",\n",
    "    \"DVD Drive\"\n",
    "]\n",
    "#valid_choices = [str(i) for i in range(1, len(available_parts)+1)]\n",
    "valid_choices = []\n",
    "for i in range(1, len(available_parts)+1):\n",
    "    valid_choices.append(str(i))\n",
    "print(valid_choices)\n",
    "current_choice = \"_\"\n",
    "computer_parts = []\n",
    "\n",
    "while current_choice != '0':\n",
    "    if current_choice in valid_choices:\n",
    "        index = int(current_choice)-1\n",
    "        chosen_part = available_parts[index]\n",
    "        if chosen_part in computer_parts:\n",
    "            #it's already in, so remove it\n",
    "            computer_parts.remove(chosen_part)\n",
    "            print(\"Removing {}\".format(current_choice))\n",
    "        else:\n",
    "            computer_parts.append(chosen_part)\n",
    "            print(\"Adding {}\".format(current_choice))\n",
    "        print(\"Your list now contains: {}\".format(computer_parts))\n",
    "    else:\n",
    "        print(\"Please add options from the list below:\")\n",
    "        for number, part in enumerate(available_parts):\n",
    "            print(\"{0}: {1}\".format(number + 1, part))\n",
    "    current_choice = input()\n",
    "\n",
    "print(computer_parts)"
   ]
  },
  {
   "cell_type": "code",
   "execution_count": 29,
   "metadata": {},
   "outputs": [
    {
     "name": "stdout",
     "output_type": "stream",
     "text": [
      "0 a\n",
      "1 b\n",
      "2 c\n",
      "3 d\n",
      "4 e\n",
      "5 f\n",
      "6 g\n",
      "7 h\n"
     ]
    }
   ],
   "source": [
    "for index, character in enumerate(\"abcdefgh\"):\n",
    "    print(index, character)"
   ]
  },
  {
   "cell_type": "code",
   "execution_count": 34,
   "metadata": {},
   "outputs": [],
   "source": [
    "data = [\n",
    "    \"Andromeda - Shrub\",\n",
    "    \"Bellflower - Flower\",\n",
    "    \"China Pink - Flower\",\n",
    "    \"Daffodil - Flower\",\n",
    "    \"Evening Primrose - Flower\",\n",
    "    \"French Marigold - Flower\",\n",
    "    \"Hydrangea - Shrub\",\n",
    "    \"Iris - Flower\",\n",
    "    \"Japanese Camellia - Shrub\",\n",
    "    \"Lavender - Shrub\",\n",
    "    \"Lilac - Shrub\",\n",
    "    \"Magnolia - Shrub\",\n",
    "    \"Peony - Shrub\",\n",
    "    \"Queen Anne's Lace - Flower\",\n",
    "    \"Red Hot Poker - Flower\",\n",
    "    \"Snapdragon - Flower\",\n",
    "    \"Sunflower - Flower\",\n",
    "    \"Tiger Lily - Flower\",\n",
    "    \"Witch Hazel - Shrub\",\n",
    "]\n",
    "\n",
    "flowers = []\n",
    "shrubs = []"
   ]
  },
  {
   "cell_type": "code",
   "execution_count": 40,
   "metadata": {},
   "outputs": [
    {
     "name": "stdout",
     "output_type": "stream",
     "text": [
      "[]\n"
     ]
    }
   ],
   "source": [
    "for plant in data:\n",
    "    if \"flower\" in plant:\n",
    "        flowers.append(plant)\n",
    "    elif \"Shrubs\" in plant:\n",
    "        shrubs.append(plant)\n",
    "\n",
    "print(shrubs)"
   ]
  },
  {
   "cell_type": "code",
   "execution_count": 60,
   "metadata": {},
   "outputs": [
    {
     "name": "stdout",
     "output_type": "stream",
     "text": [
      "[' ', ' ', ' ', ' ', ' ', ' ', ' ', ' ', 'T', 'a', 'b', 'c', 'd', 'e', 'e', 'e', 'f', 'g', 'h', 'h', 'i', 'j', 'k', 'l', 'm', 'n', 'o', 'o', 'o', 'o', 'p', 'q', 'r', 'r', 's', 't', 'u', 'u', 'v', 'w', 'x', 'y', 'z']\n",
      "[1.6, 2.3, 3.1, 4.5, 8.7, 9.2]\n",
      "[2.3, 4.5, 8.7, 3.1, 9.2, 1.6]\n",
      "[1.6, 2.3, 3.1, 4.5, 8.7, 9.2]\n",
      "[' ', ' ', ' ', ' ', ' ', ' ', ' ', ' ', 'a', 'b', 'c', 'd', 'd', 'e', 'e', 'e', 'e', 'f', 'g', 'h', 'h', 'i', 'j', 'k', 'l', 'm', 'n', 'o', 'o', 'o', 'o', 'p', 'q', 'r', 'r', 'T', 't', 'u', 'u', 'v', 'w', 'x', 'y', 'z']\n"
     ]
    }
   ],
   "source": [
    "pangram = \"The quick brown fox jumps over the lazy dog\"\n",
    "\n",
    "letter = sorted(pangram)\n",
    "print(letter)\n",
    "\n",
    "numbers = [2.3,4.5,8.7, 3.1, 9.2, 1.6]\n",
    "sorted_numbers = sorted(numbers)\n",
    "print(sorted_numbers)\n",
    "print(numbers)\n",
    "\n",
    "numbers.sort()\n",
    "print(numbers)\n",
    "\n",
    "missing_letter = sorted(\n",
    "    \"The quick brown fox jumped over the lazy dog\",\n",
    "    key = str.casefold\n",
    ")\n",
    "print(missing_letter)"
   ]
  },
  {
   "cell_type": "code",
   "execution_count": 62,
   "metadata": {},
   "outputs": [
    {
     "name": "stdout",
     "output_type": "stream",
     "text": [
      "['eric', 'Graham', 'John', 'michael', 'terry', 'Terry']\n"
     ]
    }
   ],
   "source": [
    "names = [\n",
    "    \"Graham\",\n",
    "    \"John\",\n",
    "    \"terry\",\n",
    "    \"eric\",\n",
    "    \"Terry\",\n",
    "    \"michael\"]\n",
    "names.sort(key=str.casefold)\n",
    "print(names)"
   ]
  },
  {
   "cell_type": "code",
   "execution_count": 77,
   "metadata": {},
   "outputs": [
    {
     "name": "stdout",
     "output_type": "stream",
     "text": [
      "[2, 4, 6, 8, 1, 3, 5, 7, 9]\n",
      "[1, 2, 3, 4, 5, 6, 7, 8, 9]\n",
      "[2, 4, 6, 8, 1, 3, 5, 7, 9]\n",
      "['4', '3', '2', '9', '8', '5', '6', '1', '7']\n",
      "[2, 4, 6, 8, 1, 3, 5, 7, 9]\n",
      "False\n",
      "True\n"
     ]
    }
   ],
   "source": [
    "empty_list = []\n",
    "even = [2,4,6,8]\n",
    "odd = [1,3,5,7,9]\n",
    "\n",
    "numbers = even + odd\n",
    "print(numbers)\n",
    "\n",
    "sorted_numbers = sorted(numbers)\n",
    "print(sorted_numbers)\n",
    "print(numbers)\n",
    "\n",
    "digits = list(\"432985617\")\n",
    "print(digits)\n",
    "\n",
    "#more_numbers = list(numbers)\n",
    "more_numbers = numbers.copy()\n",
    "print(more_numbers)\n",
    "print(numbers is more_numbers)\n",
    "print(numbers == more_numbers)"
   ]
  },
  {
   "cell_type": "code",
   "execution_count": 83,
   "metadata": {},
   "outputs": [
    {
     "name": "stdout",
     "output_type": "stream",
     "text": [
      "['computer', 'monitor', 'keyboard', 'mouse', 'mouse mat']\n",
      "['trackball', 'mouse mat']\n",
      "['computer', 'monitor', 'keyboard', 'trackball']\n"
     ]
    }
   ],
   "source": [
    "computer_parts = [\n",
    "    \"computer\",\n",
    "    \"monitor\",\n",
    "    \"keyboard\",\n",
    "    \"mouse\",\n",
    "    \"mouse mat\"\n",
    "]\n",
    "print(computer_parts)\n",
    "\n",
    "computer_parts[3] = \"trackball\"\n",
    "print(computer_parts[3:])\n",
    "\n",
    "computer_parts[3:] = [\"trackball\"]\n",
    "print(computer_parts)"
   ]
  },
  {
   "cell_type": "code",
   "execution_count": 96,
   "metadata": {},
   "outputs": [
    {
     "name": "stdout",
     "output_type": "stream",
     "text": [
      "2\n",
      "[104, 105, 110, 120, 130, 130, 150, 160, 170, 183, 185, 187, 188, 191, 350, 360]\n",
      "14\n",
      "[104, 105, 110, 120, 130, 130, 150, 160, 170, 183, 185, 187, 188, 191]\n"
     ]
    }
   ],
   "source": [
    "data = [\n",
    "    4,5,104,105,110,120,130,130,150,\n",
    "    160,170,183,185,187,188,191,350,360\n",
    "    ]\n",
    "\n",
    "min_valid = 100\n",
    "max_valid = 200\n",
    "\n",
    "#process the low values in the list\n",
    "stop = 0\n",
    "for index, value in enumerate(data):\n",
    "    if value >= min_valid:\n",
    "        stop = index\n",
    "        break\n",
    "\n",
    "print(stop)\n",
    "del data[:stop]\n",
    "print(data)\n",
    "\n",
    "#process the high values in the list\n",
    "start = 0\n",
    "for index in range(len(data)-1, -1, -1):\n",
    "    if data[index] <= max_valid:\n",
    "        # We have the index of the last item to keep\n",
    "        #Set 'start' to the position of the first\n",
    "        #Item to delete which is 1 after the index\n",
    "        start = index + 1\n",
    "        break\n",
    "\n",
    "print(start)\n",
    "del data[start:]\n",
    "print(data)\n",
    "\n",
    "# for index, value in enumerate(data):\n",
    "#     if (value < min_valid) or (value > max_valid):\n",
    "#         del data[index]\n",
    "# print(data)"
   ]
  },
  {
   "cell_type": "code",
   "execution_count": 102,
   "metadata": {},
   "outputs": [
    {
     "name": "stdout",
     "output_type": "stream",
     "text": [
      "9 306\n",
      "6 5\n",
      "4 308\n",
      "2 4\n",
      "[104, 101, 105, 103, 107, 100, 106, 102, 108]\n"
     ]
    }
   ],
   "source": [
    "data = [\n",
    "    104, 101, 4, 105, 308, 103, \n",
    "    5, 107, 100, 306, 106, 102, 108\n",
    "    ]\n",
    "min_valid = 100\n",
    "max_valid = 200\n",
    "\n",
    "# for index in range(len(data)-1, -1, -1):\n",
    "#     if data[index] < min_valid or data[index] > max_valid:\n",
    "#          print(index, data)\n",
    "#          del data[index]\n",
    "\n",
    "\n",
    "top_index = len(data) -1\n",
    "for index, value in enumerate(reversed(data)):\n",
    "    if value < min_valid or value > max_valid:\n",
    "        print(top_index - index, value)\n",
    "        del data[top_index - index]\n",
    "print(data)"
   ]
  },
  {
   "cell_type": "code",
   "execution_count": 109,
   "metadata": {},
   "outputs": [
    {
     "name": "stdout",
     "output_type": "stream",
     "text": [
      "[10, 11, 12, 13, 14, 15, 16, 17, 18, 19, 20, 21, 22, 23, 24, 25, 26, 27, 28, 29, 30, 31, 32, 33, 34, 35, 36, 37, 38, 39, 40, 41, 42, 43, 44, 45, 46, 47, 48, 49, 50, 51, 52, 53, 54, 55, 56, 57, 58, 59, 60, 61, 62, 63, 64, 65, 66, 67, 68, 69, 70, 71, 72, 73, 74, 75, 76, 77, 78, 79, 80, 81, 82, 83, 84, 85, 86, 87, 88, 89, 90, 91, 92, 93, 94, 95, 96, 97]\n",
      "[10, 11, 12, 13, 14, 15, 16, 17, 18, 19, 20, 21, 22, 23, 24, 25, 26, 27, 28, 29, 30, 31, 32, 33, 34, 35, 36, 37, 38, 39, 40, 41, 42, 43, 44, 45, 46, 47, 48, 49, 50, 51, 52, 53, 54, 55, 56, 57, 58, 59, 60, 61, 62, 63, 64, 65, 66, 67, 68, 69, 70, 71, 72, 73, 74, 75, 76, 77, 78, 79, 80, 81, 82, 83, 84, 85, 86, 87, 88, 89, 90, 91, 92, 93, 94, 95, 96, 97]\n",
      "[10, 11, 12, 13, 14, 15, 16, 17, 18, 19, 20, 21, 22, 23, 24, 25, 26, 27, 28, 29, 30, 31, 32, 33, 34, 35, 36, 37, 38, 39, 40, 41, 42, 43, 44, 45, 46, 47, 48, 49, 50, 51, 52, 53, 54, 55, 56, 57, 58, 59, 60, 61, 62, 63, 64, 65, 66, 67, 68, 69, 70, 71, 72, 73, 74, 75, 76, 77, 78, 79, 80, 81, 82, 83, 84, 85, 86, 87, 88, 89, 90, 91, 92, 93, 94, 95, 96, 97]\n"
     ]
    }
   ],
   "source": [
    "import timeit\n",
    "\n",
    "max_value = 100\n",
    "min_valid = 10\n",
    "max_valid = 97\n",
    "\n",
    "data_list1 = list(range(max_value))\n",
    "data_list2 = list(range(max_value))\n",
    "data_list3 = list(range(max_value))\n",
    "\n",
    "def santise_1(data):\n",
    "    stop = 0\n",
    "    for index, value in enumerate(data):\n",
    "        if value >= min_valid:\n",
    "            stop = index\n",
    "            break\n",
    "\n",
    "    del data[:stop]\n",
    "\n",
    "    #process the high values in the list\n",
    "    start = 0\n",
    "    for index in range(len(data)-1, -1, -1):\n",
    "        if data[index] <= max_valid:\n",
    "            # We have the index of the last item to keep\n",
    "            #Set 'start' to the position of the first\n",
    "            #Item to delete which is 1 after the index\n",
    "            start = index + 1\n",
    "            break\n",
    "\n",
    "    del data[start:]\n",
    "\n",
    "def santise_2(data):\n",
    "    top_index = len(data) - 1\n",
    "    for index, value in enumerate(reversed(data)):\n",
    "        if value < min_valid or value > max_valid:\n",
    "            del data[top_index - index]\n",
    "\n",
    "def santise_3(data):\n",
    "    for index in range(len(data)-1,-1,-1):\n",
    "        if data[index] < min_valid or data[index] > max_valid:\n",
    "            del data[index]\n",
    "\n",
    "santise_1(data_list1)\n",
    "santise_2(data_list2)\n",
    "santise_3(data_list3)\n",
    "print(data_list1)\n",
    "print(data_list2)\n",
    "print(data_list3)"
   ]
  },
  {
   "cell_type": "code",
   "execution_count": 114,
   "metadata": {},
   "outputs": [
    {
     "name": "stdout",
     "output_type": "stream",
     "text": [
      "[[2, 4, 6, 8], [1, 3, 5, 7, 9]]\n",
      "[2, 4, 6, 8]\n",
      "2\n",
      "4\n",
      "6\n",
      "8\n",
      "[1, 3, 5, 7, 9]\n",
      "1\n",
      "3\n",
      "5\n",
      "7\n",
      "9\n"
     ]
    }
   ],
   "source": [
    "empty_list = []\n",
    "even = [2,4,6,8]\n",
    "odd = [1,3,5,7,9]\n",
    "\n",
    "numbers = [even, odd]\n",
    "print(numbers)\n",
    "\n",
    "for number_list in numbers:\n",
    "    print(number_list)\n",
    "    for value in number_list:\n",
    "        print(value)"
   ]
  },
  {
   "cell_type": "code",
   "execution_count": 118,
   "metadata": {},
   "outputs": [
    {
     "name": "stdout",
     "output_type": "stream",
     "text": [
      "egg\n",
      "bacon\n",
      "egg\n",
      "sausage\n",
      "bacon\n",
      "['egg', 'spam'] has a spam score of 1\n",
      "['egg', 'bacon', 'spam'] has a spam score of 1\n",
      "['egg', 'bacon', 'sausage', 'spam'] has a spam score of 1\n",
      "['spam', 'bacon', 'sausage', 'spam'] has a spam score of 2\n",
      "['spam', 'egg', 'spam', 'spam', 'bacon', 'spam'] has a spam score of 4\n",
      "['spam', 'sausage', 'spam', 'bacon', 'spam', 'tomato', 'spam'] has a spam score of 4\n"
     ]
    }
   ],
   "source": [
    "menu = [\n",
    "    [\"egg\",\"bacon\"], \n",
    "    [\"egg\",\"sausage\",\"bacon\"],\n",
    "    [\"egg\", \"spam\"], \n",
    "    [\"egg\",\"bacon\",\"spam\"], \n",
    "    [\"egg\",\"bacon\",\"sausage\",\"spam\"], \n",
    "    [\"spam\",\"bacon\",\"sausage\",\"spam\"],\n",
    "    [\"spam\",\"egg\",\"spam\",\"spam\",\"bacon\",\"spam\"], \n",
    "    [\"spam\",\"sausage\",\"spam\",\"bacon\",\"spam\",\"tomato\",\"spam\"],\n",
    "    ]\n",
    "\n",
    "for meal in menu:\n",
    "    if \"spam\" not in meal:\n",
    "        for item in meal:\n",
    "            print(item)\n",
    "    else:\n",
    "        print(\"{0} has a spam score of {1}\".format(meal, meal.count(\"spam\")))"
   ]
  },
  {
   "cell_type": "code",
   "execution_count": 137,
   "metadata": {},
   "outputs": [
    {
     "name": "stdout",
     "output_type": "stream",
     "text": [
      "egg, bacon, \n",
      "egg, sausage, bacon, \n",
      "egg, \n",
      "egg, bacon, \n",
      "egg, bacon, sausage, \n",
      "bacon, sausage, \n",
      "egg, bacon, \n",
      "sausage, bacon, tomato, \n"
     ]
    }
   ],
   "source": [
    "from sklearn.metrics import mean_squared_log_error\n",
    "\n",
    "\n",
    "menu = [\n",
    "    [\"egg\",\"bacon\"], \n",
    "    [\"egg\",\"sausage\",\"bacon\"],\n",
    "    [\"egg\", \"spam\"], \n",
    "    [\"egg\",\"bacon\",\"spam\"], \n",
    "    [\"egg\",\"bacon\",\"sausage\",\"spam\"], \n",
    "    [\"spam\",\"bacon\",\"sausage\",\"spam\"],\n",
    "    [\"spam\",\"egg\",\"spam\",\"spam\",\"bacon\",\"spam\"], \n",
    "    [\"spam\",\"sausage\",\"spam\",\"bacon\",\"spam\",\"tomato\",\"spam\"],\n",
    "    ]\n",
    "\n",
    "for meal in menu:\n",
    "    for item in meal:\n",
    "        if item != \"spam\":\n",
    "            print(item, end=\", \")\n",
    "    print()\n",
    "\n",
    "# for meal in menu:\n",
    "#     if \"spam\" in meal:\n",
    "#         for item in meal:\n",
    "#             if item != \"spam\":\n",
    "#                 print(item)"
   ]
  },
  {
   "cell_type": "code",
   "execution_count": 138,
   "metadata": {},
   "outputs": [
    {
     "name": "stdout",
     "output_type": "stream",
     "text": [
      "egg, bacon\n",
      "egg, sausage, bacon\n",
      "egg\n",
      "egg, bacon\n",
      "egg, bacon, sausage\n",
      "bacon, sausage\n",
      "egg, bacon\n",
      "sausage, bacon, tomato\n"
     ]
    }
   ],
   "source": [
    "for meal in menu:\n",
    "    for index in range(len(meal)-1,-1,-1):\n",
    "        if meal[index] == \"spam\":\n",
    "            del meal[index]\n",
    "    print(\", \".join(meal))"
   ]
  },
  {
   "cell_type": "code",
   "execution_count": 135,
   "metadata": {},
   "outputs": [
    {
     "name": "stdout",
     "output_type": "stream",
     "text": [
      "Tim, 10, python, 2020\n"
     ]
    }
   ],
   "source": [
    "name = \"Tim\"\n",
    "age = 10\n",
    "\n",
    "print(name, age, \"python\", 2020, sep=\", \")"
   ]
  },
  {
   "cell_type": "code",
   "execution_count": 143,
   "metadata": {},
   "outputs": [
    {
     "name": "stdout",
     "output_type": "stream",
     "text": [
      "Daffodil | Evening Primrose | Hydrangea | Iris | Lavender | Sunflower | Tiger Lily\n",
      "Daffodil, Evening Primrose, Hydrangea, Iris, Lavender, Sunflower, Tiger Lily\n"
     ]
    }
   ],
   "source": [
    "flowers = [\n",
    "    \"Daffodil\",\n",
    "    \"Evening Primrose\",\n",
    "    \"Hydrangea\",\n",
    "    \"Iris\",\n",
    "    \"Lavender\",\n",
    "    \"Sunflower\",\n",
    "    \"Tiger Lily\"\n",
    "]\n",
    "\n",
    "seperator = \" | \"\n",
    "output = seperator.join(flowers)\n",
    "print(output)\n",
    "\n",
    "print(\", \".join(flowers))"
   ]
  },
  {
   "cell_type": "code",
   "execution_count": 149,
   "metadata": {},
   "outputs": [
    {
     "name": "stdout",
     "output_type": "stream",
     "text": [
      "['The', 'quick', 'brown', 'fox', 'jumps', 'over', 'the', 'lazy', 'dog']\n",
      "['9', '223', '372', '036', '854', '775', '807']\n",
      "9 223 372 036 854 775 807\n",
      "['9', '223', '372', '036', '854', '775', '807']\n",
      "[9, 223, 372, 36, 854, 775, 807]\n",
      "[9, 223, 372, 36, 854, 775, 807]\n"
     ]
    }
   ],
   "source": [
    "panagram = \"The quick brown fox jumps over the lazy dog\"\n",
    "\n",
    "words = panagram.split()\n",
    "print(words)\n",
    "\n",
    "numbers = \"9,223,372,036,854,775,807\"\n",
    "print(numbers.split(\",\"))\n",
    "\n",
    "generated_list = [\n",
    "    '9', ' ',\n",
    "    '2', '2', '3', ' ',\n",
    "    '3', '7', '2', ' ',\n",
    "    '0', '3', '6', ' ',\n",
    "    '8', '5', '4', ' ',\n",
    "    '7', '7', '5', ' ',\n",
    "    '8', '0', '7']\n",
    "values = \"\".join(generated_list)\n",
    "print(values)\n",
    "\n",
    "values_list = values.split()\n",
    "print(values_list)\n",
    "\n",
    "for index in range(len(values_list)):\n",
    "    values_list[index] = int(values_list[index])\n",
    "\n",
    "print(values_list)\n",
    "\n",
    "integer_values = []\n",
    "for value in values_list:\n",
    "    integer_values.append(int(value))\n",
    "print(integer_values)"
   ]
  },
  {
   "cell_type": "code",
   "execution_count": 151,
   "metadata": {},
   "outputs": [
    {
     "name": "stdout",
     "output_type": "stream",
     "text": [
      "11\n"
     ]
    }
   ],
   "source": [
    "#For this exercise, you have to write a python program which prompts the user to enter three integers separated by \",\".\n",
    "#The user input is of the form: a,b,c, where a, b and c are numbers.\n",
    "#input from user\n",
    "user_input = input(\"Please enter 3 numbers\")\n",
    "\n",
    "#Split the given input string into 3 parts\n",
    "str_tokens = user_input.split(\",\")\n",
    "\n",
    "#Convert string tokens into integers\n",
    "int_tokens = []\n",
    "for st in str_tokens:\n",
    "    int_tokens.append(int(st))\n",
    "\n",
    "#Calculate the result\n",
    "a, b, c = int_tokens\n",
    "result = a + b - c\n",
    "print(result)"
   ]
  },
  {
   "cell_type": "code",
   "execution_count": null,
   "metadata": {},
   "outputs": [],
   "source": []
  }
 ],
 "metadata": {
  "kernelspec": {
   "display_name": "Python 3.7.12 ('dojo-env')",
   "language": "python",
   "name": "python3"
  },
  "language_info": {
   "codemirror_mode": {
    "name": "ipython",
    "version": 3
   },
   "file_extension": ".py",
   "mimetype": "text/x-python",
   "name": "python",
   "nbconvert_exporter": "python",
   "pygments_lexer": "ipython3",
   "version": "3.7.12"
  },
  "orig_nbformat": 4,
  "vscode": {
   "interpreter": {
    "hash": "54a8271eeb19f76003f8897e8c34a5390884da7f3b817a274b11ae25a52d0ab2"
   }
  }
 },
 "nbformat": 4,
 "nbformat_minor": 2
}
